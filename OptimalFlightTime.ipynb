{
 "cells": [
  {
   "cell_type": "code",
   "execution_count": 1,
   "id": "ec7139fd",
   "metadata": {},
   "outputs": [],
   "source": [
    "# Optimal Time Flight Data"
   ]
  },
  {
   "cell_type": "markdown",
   "id": "956a1032",
   "metadata": {},
   "source": [
    "Import Required Libraries"
   ]
  },
  {
   "cell_type": "code",
   "execution_count": 2,
   "id": "9010aa6d",
   "metadata": {},
   "outputs": [],
   "source": [
    "import pandas as pd\n",
    "import numpy as np\n",
    "import seaborn as sns\n",
    "import matplotlib.pyplot as plt\n",
    "from matplotlib import rcParams\n",
    "from sklearn.preprocessing import LabelEncoder\n",
    "from sklearn.decomposition import PCA\n",
    "from sklearn.preprocessing import MinMaxScaler\n",
    "from sklearn.model_selection import train_test_split\n",
    "from sklearn.linear_model import LogisticRegression\n",
    "%matplotlib inline\n",
    "from scipy import stats\n",
    "from scipy.stats import norm\n",
    "import warnings\n",
    "warnings.filterwarnings('ignore')"
   ]
  },
  {
   "cell_type": "code",
   "execution_count": 3,
   "id": "a38fa769",
   "metadata": {},
   "outputs": [],
   "source": [
    "df1 = pd.read_csv('trainable_complete2.xls')"
   ]
  },
  {
   "cell_type": "code",
   "execution_count": 4,
   "id": "dd832d34",
   "metadata": {},
   "outputs": [
    {
     "data": {
      "text/html": [
       "<div>\n",
       "<style scoped>\n",
       "    .dataframe tbody tr th:only-of-type {\n",
       "        vertical-align: middle;\n",
       "    }\n",
       "\n",
       "    .dataframe tbody tr th {\n",
       "        vertical-align: top;\n",
       "    }\n",
       "\n",
       "    .dataframe thead th {\n",
       "        text-align: right;\n",
       "    }\n",
       "</style>\n",
       "<table border=\"1\" class=\"dataframe\">\n",
       "  <thead>\n",
       "    <tr style=\"text-align: right;\">\n",
       "      <th></th>\n",
       "      <th>Price</th>\n",
       "      <th>departure_time</th>\n",
       "      <th>arrival_time</th>\n",
       "      <th>Airline</th>\n",
       "      <th>Cabin</th>\n",
       "      <th>Dept_city</th>\n",
       "      <th>Dept_date</th>\n",
       "      <th>arrival_city</th>\n",
       "      <th>stops</th>\n",
       "      <th>duration</th>\n",
       "      <th>weekday</th>\n",
       "      <th>dept_hours</th>\n",
       "      <th>Dept_flights_time</th>\n",
       "      <th>optimal_hours</th>\n",
       "    </tr>\n",
       "  </thead>\n",
       "  <tbody>\n",
       "    <tr>\n",
       "      <th>0</th>\n",
       "      <td>3112</td>\n",
       "      <td>14:30</td>\n",
       "      <td>20:20</td>\n",
       "      <td>AirAsia</td>\n",
       "      <td>E</td>\n",
       "      <td>New Delhi</td>\n",
       "      <td>1</td>\n",
       "      <td>Mumbai</td>\n",
       "      <td>1</td>\n",
       "      <td>350</td>\n",
       "      <td>5</td>\n",
       "      <td>14</td>\n",
       "      <td>Afternoon_flight</td>\n",
       "      <td>11</td>\n",
       "    </tr>\n",
       "    <tr>\n",
       "      <th>1</th>\n",
       "      <td>3113</td>\n",
       "      <td>16:55</td>\n",
       "      <td>21:10</td>\n",
       "      <td>Go Air</td>\n",
       "      <td>E</td>\n",
       "      <td>New Delhi</td>\n",
       "      <td>1</td>\n",
       "      <td>Mumbai</td>\n",
       "      <td>1</td>\n",
       "      <td>255</td>\n",
       "      <td>5</td>\n",
       "      <td>16</td>\n",
       "      <td>Evening_flight</td>\n",
       "      <td>13</td>\n",
       "    </tr>\n",
       "    <tr>\n",
       "      <th>2</th>\n",
       "      <td>3113</td>\n",
       "      <td>16:45</td>\n",
       "      <td>21:05</td>\n",
       "      <td>Go Air</td>\n",
       "      <td>E</td>\n",
       "      <td>New Delhi</td>\n",
       "      <td>1</td>\n",
       "      <td>Mumbai</td>\n",
       "      <td>1</td>\n",
       "      <td>260</td>\n",
       "      <td>5</td>\n",
       "      <td>16</td>\n",
       "      <td>Evening_flight</td>\n",
       "      <td>13</td>\n",
       "    </tr>\n",
       "    <tr>\n",
       "      <th>3</th>\n",
       "      <td>3113</td>\n",
       "      <td>07:55</td>\n",
       "      <td>13:00</td>\n",
       "      <td>Go Air</td>\n",
       "      <td>E</td>\n",
       "      <td>New Delhi</td>\n",
       "      <td>1</td>\n",
       "      <td>Mumbai</td>\n",
       "      <td>1</td>\n",
       "      <td>305</td>\n",
       "      <td>5</td>\n",
       "      <td>7</td>\n",
       "      <td>Morning_flight</td>\n",
       "      <td>4</td>\n",
       "    </tr>\n",
       "    <tr>\n",
       "      <th>4</th>\n",
       "      <td>3113</td>\n",
       "      <td>09:00</td>\n",
       "      <td>14:20</td>\n",
       "      <td>Go Air</td>\n",
       "      <td>E</td>\n",
       "      <td>New Delhi</td>\n",
       "      <td>1</td>\n",
       "      <td>Mumbai</td>\n",
       "      <td>1</td>\n",
       "      <td>320</td>\n",
       "      <td>5</td>\n",
       "      <td>9</td>\n",
       "      <td>Morning_flight</td>\n",
       "      <td>6</td>\n",
       "    </tr>\n",
       "  </tbody>\n",
       "</table>\n",
       "</div>"
      ],
      "text/plain": [
       "   Price departure_time arrival_time  Airline Cabin  Dept_city  Dept_date  \\\n",
       "0   3112          14:30        20:20  AirAsia     E  New Delhi          1   \n",
       "1   3113          16:55        21:10   Go Air     E  New Delhi          1   \n",
       "2   3113          16:45        21:05   Go Air     E  New Delhi          1   \n",
       "3   3113          07:55        13:00   Go Air     E  New Delhi          1   \n",
       "4   3113          09:00        14:20   Go Air     E  New Delhi          1   \n",
       "\n",
       "  arrival_city  stops  duration  weekday  dept_hours Dept_flights_time  \\\n",
       "0      Mumbai       1       350        5          14  Afternoon_flight   \n",
       "1      Mumbai       1       255        5          16    Evening_flight   \n",
       "2      Mumbai       1       260        5          16    Evening_flight   \n",
       "3      Mumbai       1       305        5           7    Morning_flight   \n",
       "4      Mumbai       1       320        5           9    Morning_flight   \n",
       "\n",
       "   optimal_hours  \n",
       "0             11  \n",
       "1             13  \n",
       "2             13  \n",
       "3              4  \n",
       "4              6  "
      ]
     },
     "execution_count": 4,
     "metadata": {},
     "output_type": "execute_result"
    }
   ],
   "source": [
    "df1.head()"
   ]
  },
  {
   "cell_type": "markdown",
   "id": "979e037e",
   "metadata": {},
   "source": [
    "Airline: Name of the airline used for traveling\n",
    "\n",
    "Cabin: The type of service i.e. economy, business class and premium economy\n",
    "\n",
    "weekday: number of weekdays the flight is operational \n",
    "\n",
    "Dept_city: Starting location of flight, souce of the flight\n",
    "\n",
    "arrival_city: Ending location of flight, destination of the flight\n",
    "\n",
    "departure_time: Departure time of flight from starting location\n",
    "\n",
    "arrival_time: Arrival time of flight at destination\n",
    "\n",
    "duration: Duration of flight in minutes\n",
    "\n",
    "stops: Number of total stops flight took before landing at the destination.\n",
    "\n",
    "Price: Price of the flight\n",
    "\n",
    "Dept_flights_time: time of the day the flight usually takes place\n",
    "\n",
    "dept_hours: \n",
    "\n",
    "Dept_date:\n",
    "\n",
    "optimal_hours:"
   ]
  },
  {
   "cell_type": "code",
   "execution_count": 5,
   "id": "c8e37498",
   "metadata": {},
   "outputs": [
    {
     "name": "stdout",
     "output_type": "stream",
     "text": [
      "(330938, 14)\n"
     ]
    }
   ],
   "source": [
    "print(df1.shape)"
   ]
  },
  {
   "cell_type": "markdown",
   "id": "ff73e8d5",
   "metadata": {},
   "source": [
    "There are 14 columns and 330938 rows"
   ]
  },
  {
   "cell_type": "markdown",
   "id": "19781d5f",
   "metadata": {},
   "source": [
    "# Exploring the contents of data"
   ]
  },
  {
   "cell_type": "code",
   "execution_count": 6,
   "id": "dafa7252",
   "metadata": {},
   "outputs": [
    {
     "name": "stdout",
     "output_type": "stream",
     "text": [
      "<class 'pandas.core.frame.DataFrame'>\n",
      "RangeIndex: 330938 entries, 0 to 330937\n",
      "Data columns (total 14 columns):\n",
      " #   Column             Non-Null Count   Dtype \n",
      "---  ------             --------------   ----- \n",
      " 0   Price              330938 non-null  int64 \n",
      " 1   departure_time     330938 non-null  object\n",
      " 2   arrival_time       330938 non-null  object\n",
      " 3   Airline            330938 non-null  object\n",
      " 4   Cabin              330938 non-null  object\n",
      " 5   Dept_city          330938 non-null  object\n",
      " 6   Dept_date          330938 non-null  int64 \n",
      " 7   arrival_city       330938 non-null  object\n",
      " 8   stops              330938 non-null  int64 \n",
      " 9   duration           330938 non-null  int64 \n",
      " 10  weekday            330938 non-null  int64 \n",
      " 11  dept_hours         330938 non-null  int64 \n",
      " 12  Dept_flights_time  330938 non-null  object\n",
      " 13  optimal_hours      330938 non-null  int64 \n",
      "dtypes: int64(7), object(7)\n",
      "memory usage: 35.3+ MB\n"
     ]
    }
   ],
   "source": [
    "df1.info()"
   ]
  },
  {
   "cell_type": "code",
   "execution_count": 7,
   "id": "e3856ad1",
   "metadata": {},
   "outputs": [
    {
     "data": {
      "text/html": [
       "<div>\n",
       "<style scoped>\n",
       "    .dataframe tbody tr th:only-of-type {\n",
       "        vertical-align: middle;\n",
       "    }\n",
       "\n",
       "    .dataframe tbody tr th {\n",
       "        vertical-align: top;\n",
       "    }\n",
       "\n",
       "    .dataframe thead th {\n",
       "        text-align: right;\n",
       "    }\n",
       "</style>\n",
       "<table border=\"1\" class=\"dataframe\">\n",
       "  <thead>\n",
       "    <tr style=\"text-align: right;\">\n",
       "      <th></th>\n",
       "      <th>Price</th>\n",
       "      <th>Dept_date</th>\n",
       "      <th>stops</th>\n",
       "      <th>duration</th>\n",
       "      <th>weekday</th>\n",
       "      <th>dept_hours</th>\n",
       "      <th>optimal_hours</th>\n",
       "    </tr>\n",
       "  </thead>\n",
       "  <tbody>\n",
       "    <tr>\n",
       "      <th>count</th>\n",
       "      <td>330938.000000</td>\n",
       "      <td>330938.000000</td>\n",
       "      <td>330938.000000</td>\n",
       "      <td>330938.000000</td>\n",
       "      <td>330938.000000</td>\n",
       "      <td>330938.000000</td>\n",
       "      <td>330938.000000</td>\n",
       "    </tr>\n",
       "    <tr>\n",
       "      <th>mean</th>\n",
       "      <td>14074.894817</td>\n",
       "      <td>16.713064</td>\n",
       "      <td>1.278974</td>\n",
       "      <td>590.186636</td>\n",
       "      <td>2.902087</td>\n",
       "      <td>12.602539</td>\n",
       "      <td>12.568575</td>\n",
       "    </tr>\n",
       "    <tr>\n",
       "      <th>std</th>\n",
       "      <td>15968.136248</td>\n",
       "      <td>8.166245</td>\n",
       "      <td>0.802891</td>\n",
       "      <td>364.512309</td>\n",
       "      <td>2.088561</td>\n",
       "      <td>4.848977</td>\n",
       "      <td>6.882780</td>\n",
       "    </tr>\n",
       "    <tr>\n",
       "      <th>min</th>\n",
       "      <td>1579.000000</td>\n",
       "      <td>1.000000</td>\n",
       "      <td>0.000000</td>\n",
       "      <td>0.000000</td>\n",
       "      <td>0.000000</td>\n",
       "      <td>0.000000</td>\n",
       "      <td>0.000000</td>\n",
       "    </tr>\n",
       "    <tr>\n",
       "      <th>25%</th>\n",
       "      <td>5450.000000</td>\n",
       "      <td>10.000000</td>\n",
       "      <td>1.000000</td>\n",
       "      <td>325.000000</td>\n",
       "      <td>1.000000</td>\n",
       "      <td>9.000000</td>\n",
       "      <td>7.000000</td>\n",
       "    </tr>\n",
       "    <tr>\n",
       "      <th>50%</th>\n",
       "      <td>7559.000000</td>\n",
       "      <td>17.000000</td>\n",
       "      <td>1.000000</td>\n",
       "      <td>515.000000</td>\n",
       "      <td>3.000000</td>\n",
       "      <td>12.000000</td>\n",
       "      <td>13.000000</td>\n",
       "    </tr>\n",
       "    <tr>\n",
       "      <th>75%</th>\n",
       "      <td>11742.000000</td>\n",
       "      <td>24.000000</td>\n",
       "      <td>2.000000</td>\n",
       "      <td>845.000000</td>\n",
       "      <td>5.000000</td>\n",
       "      <td>16.000000</td>\n",
       "      <td>18.000000</td>\n",
       "    </tr>\n",
       "    <tr>\n",
       "      <th>max</th>\n",
       "      <td>115432.000000</td>\n",
       "      <td>31.000000</td>\n",
       "      <td>6.000000</td>\n",
       "      <td>1435.000000</td>\n",
       "      <td>6.000000</td>\n",
       "      <td>23.000000</td>\n",
       "      <td>23.000000</td>\n",
       "    </tr>\n",
       "  </tbody>\n",
       "</table>\n",
       "</div>"
      ],
      "text/plain": [
       "               Price      Dept_date          stops       duration  \\\n",
       "count  330938.000000  330938.000000  330938.000000  330938.000000   \n",
       "mean    14074.894817      16.713064       1.278974     590.186636   \n",
       "std     15968.136248       8.166245       0.802891     364.512309   \n",
       "min      1579.000000       1.000000       0.000000       0.000000   \n",
       "25%      5450.000000      10.000000       1.000000     325.000000   \n",
       "50%      7559.000000      17.000000       1.000000     515.000000   \n",
       "75%     11742.000000      24.000000       2.000000     845.000000   \n",
       "max    115432.000000      31.000000       6.000000    1435.000000   \n",
       "\n",
       "             weekday     dept_hours  optimal_hours  \n",
       "count  330938.000000  330938.000000  330938.000000  \n",
       "mean        2.902087      12.602539      12.568575  \n",
       "std         2.088561       4.848977       6.882780  \n",
       "min         0.000000       0.000000       0.000000  \n",
       "25%         1.000000       9.000000       7.000000  \n",
       "50%         3.000000      12.000000      13.000000  \n",
       "75%         5.000000      16.000000      18.000000  \n",
       "max         6.000000      23.000000      23.000000  "
      ]
     },
     "execution_count": 7,
     "metadata": {},
     "output_type": "execute_result"
    }
   ],
   "source": [
    "df1.describe()"
   ]
  },
  {
   "cell_type": "code",
   "execution_count": 8,
   "id": "2d7c51c6",
   "metadata": {},
   "outputs": [
    {
     "data": {
      "text/plain": [
       "array(['AirAsia', 'Go Air', 'IndiGo', 'Air India', 'Spicejet', 'Vistara',\n",
       "       'Vistara, IndiGo', 'Spicejet, IndiGo', 'IndiGo, Air India',\n",
       "       'Vistara, Air India', 'Air India, IndiGo', 'IndiGo, AirAsia',\n",
       "       'AirAsia, IndiGo', 'IndiGo, Spicejet', 'AirAsia, Go Air',\n",
       "       'AirAsia, Spicejet', 'AirAsia, Air India', 'Air India, Spicejet',\n",
       "       'Go Air, IndiGo', 'Air India, Vistara', 'Spicejet, Air India',\n",
       "       'Go Air, Air India', 'IndiGo, Go Air', 'Go Air, Spicejet',\n",
       "       'Go Air, AirAsia', 'Air India, Go Air', 'Air India, AirAsia',\n",
       "       'Vistara, Go Air', 'Vistara, AirAsia', 'TruJet, IndiGo',\n",
       "       'IndiGo, Vistara', 'TruJet, Vistara', 'AirAsia, Vistara',\n",
       "       'Vistara, Spicejet', 'Go Air, Vistara', 'Spicejet, Vistara',\n",
       "       'Spicejet, Go Air', 'Spicejet, AirAsia', 'IndiGo, TruJet',\n",
       "       'flybig, Air India', 'flybig, Spicejet', 'flybig, IndiGo',\n",
       "       'flybig, Go Air', 'TruJet, Air India'], dtype=object)"
      ]
     },
     "execution_count": 8,
     "metadata": {},
     "output_type": "execute_result"
    }
   ],
   "source": [
    "df1['Airline'].unique()"
   ]
  },
  {
   "cell_type": "markdown",
   "id": "dcfe371d",
   "metadata": {},
   "source": [
    "This data is extremely distorted and hence requires cleaning.\n",
    "Split the data into two airline columns i.e. ailine1 and airline 2"
   ]
  },
  {
   "cell_type": "code",
   "execution_count": 9,
   "id": "6d249b39",
   "metadata": {},
   "outputs": [
    {
     "data": {
      "text/plain": [
       "array(['New Delhi', 'Mumbai', 'Bengaluru', 'Hyderabad', 'Chennai',\n",
       "       'Kolkata', 'Kochi', 'Goa', 'Pune', 'Guwahati', 'Lucknow', 'Jaipur',\n",
       "       'Patna', 'Thiruvananthapuram', 'Bhubaneswar', 'Kozhikode',\n",
       "       'Bagdogra', 'Nagpur', 'Varanasi', 'Indore', 'Coimbatore',\n",
       "       'Srinagar', 'Visakhapatnam', 'Ranchi', 'Amritsar', 'Chandigarh',\n",
       "       'Raipur', 'Mangalore', 'Port Blair', 'Tiruchirappalli'],\n",
       "      dtype=object)"
      ]
     },
     "execution_count": 9,
     "metadata": {},
     "output_type": "execute_result"
    }
   ],
   "source": [
    "df1['Dept_city'].unique()"
   ]
  },
  {
   "cell_type": "code",
   "execution_count": 10,
   "id": "2a079dc4",
   "metadata": {},
   "outputs": [
    {
     "data": {
      "text/plain": [
       "array(['E', 'B', 'PE'], dtype=object)"
      ]
     },
     "execution_count": 10,
     "metadata": {},
     "output_type": "execute_result"
    }
   ],
   "source": [
    "df1['Cabin'].unique()"
   ]
  },
  {
   "cell_type": "code",
   "execution_count": 11,
   "id": "c0850027",
   "metadata": {},
   "outputs": [
    {
     "data": {
      "text/plain": [
       "array([ 1,  2,  3,  4,  6,  7,  8,  9, 10, 11, 12, 13, 14, 15, 16, 17, 18,\n",
       "       19, 20, 21, 22, 23, 24, 25, 26, 27, 28, 29, 30, 31,  5],\n",
       "      dtype=int64)"
      ]
     },
     "execution_count": 11,
     "metadata": {},
     "output_type": "execute_result"
    }
   ],
   "source": [
    "df1['Dept_date'].unique()"
   ]
  },
  {
   "cell_type": "markdown",
   "id": "aeb954c9",
   "metadata": {},
   "source": [
    "# Data Cleaning and modification"
   ]
  },
  {
   "cell_type": "code",
   "execution_count": 12,
   "id": "ed326675",
   "metadata": {},
   "outputs": [],
   "source": [
    "df1[['Airline1','Airline2']] = df1['Airline'].str.split(',', expand=True)\n",
    "df1.drop(columns = ['Airline'], inplace = True)"
   ]
  },
  {
   "cell_type": "code",
   "execution_count": 13,
   "id": "f5dc717b",
   "metadata": {},
   "outputs": [
    {
     "data": {
      "text/html": [
       "<div>\n",
       "<style scoped>\n",
       "    .dataframe tbody tr th:only-of-type {\n",
       "        vertical-align: middle;\n",
       "    }\n",
       "\n",
       "    .dataframe tbody tr th {\n",
       "        vertical-align: top;\n",
       "    }\n",
       "\n",
       "    .dataframe thead th {\n",
       "        text-align: right;\n",
       "    }\n",
       "</style>\n",
       "<table border=\"1\" class=\"dataframe\">\n",
       "  <thead>\n",
       "    <tr style=\"text-align: right;\">\n",
       "      <th></th>\n",
       "      <th>Price</th>\n",
       "      <th>departure_time</th>\n",
       "      <th>arrival_time</th>\n",
       "      <th>Cabin</th>\n",
       "      <th>Dept_city</th>\n",
       "      <th>Dept_date</th>\n",
       "      <th>arrival_city</th>\n",
       "      <th>stops</th>\n",
       "      <th>duration</th>\n",
       "      <th>weekday</th>\n",
       "      <th>dept_hours</th>\n",
       "      <th>Dept_flights_time</th>\n",
       "      <th>optimal_hours</th>\n",
       "      <th>Airline1</th>\n",
       "      <th>Airline2</th>\n",
       "    </tr>\n",
       "  </thead>\n",
       "  <tbody>\n",
       "    <tr>\n",
       "      <th>0</th>\n",
       "      <td>3112</td>\n",
       "      <td>14:30</td>\n",
       "      <td>20:20</td>\n",
       "      <td>E</td>\n",
       "      <td>New Delhi</td>\n",
       "      <td>1</td>\n",
       "      <td>Mumbai</td>\n",
       "      <td>1</td>\n",
       "      <td>350</td>\n",
       "      <td>5</td>\n",
       "      <td>14</td>\n",
       "      <td>Afternoon_flight</td>\n",
       "      <td>11</td>\n",
       "      <td>AirAsia</td>\n",
       "      <td>None</td>\n",
       "    </tr>\n",
       "    <tr>\n",
       "      <th>1</th>\n",
       "      <td>3113</td>\n",
       "      <td>16:55</td>\n",
       "      <td>21:10</td>\n",
       "      <td>E</td>\n",
       "      <td>New Delhi</td>\n",
       "      <td>1</td>\n",
       "      <td>Mumbai</td>\n",
       "      <td>1</td>\n",
       "      <td>255</td>\n",
       "      <td>5</td>\n",
       "      <td>16</td>\n",
       "      <td>Evening_flight</td>\n",
       "      <td>13</td>\n",
       "      <td>Go Air</td>\n",
       "      <td>None</td>\n",
       "    </tr>\n",
       "    <tr>\n",
       "      <th>2</th>\n",
       "      <td>3113</td>\n",
       "      <td>16:45</td>\n",
       "      <td>21:05</td>\n",
       "      <td>E</td>\n",
       "      <td>New Delhi</td>\n",
       "      <td>1</td>\n",
       "      <td>Mumbai</td>\n",
       "      <td>1</td>\n",
       "      <td>260</td>\n",
       "      <td>5</td>\n",
       "      <td>16</td>\n",
       "      <td>Evening_flight</td>\n",
       "      <td>13</td>\n",
       "      <td>Go Air</td>\n",
       "      <td>None</td>\n",
       "    </tr>\n",
       "    <tr>\n",
       "      <th>3</th>\n",
       "      <td>3113</td>\n",
       "      <td>07:55</td>\n",
       "      <td>13:00</td>\n",
       "      <td>E</td>\n",
       "      <td>New Delhi</td>\n",
       "      <td>1</td>\n",
       "      <td>Mumbai</td>\n",
       "      <td>1</td>\n",
       "      <td>305</td>\n",
       "      <td>5</td>\n",
       "      <td>7</td>\n",
       "      <td>Morning_flight</td>\n",
       "      <td>4</td>\n",
       "      <td>Go Air</td>\n",
       "      <td>None</td>\n",
       "    </tr>\n",
       "    <tr>\n",
       "      <th>4</th>\n",
       "      <td>3113</td>\n",
       "      <td>09:00</td>\n",
       "      <td>14:20</td>\n",
       "      <td>E</td>\n",
       "      <td>New Delhi</td>\n",
       "      <td>1</td>\n",
       "      <td>Mumbai</td>\n",
       "      <td>1</td>\n",
       "      <td>320</td>\n",
       "      <td>5</td>\n",
       "      <td>9</td>\n",
       "      <td>Morning_flight</td>\n",
       "      <td>6</td>\n",
       "      <td>Go Air</td>\n",
       "      <td>None</td>\n",
       "    </tr>\n",
       "  </tbody>\n",
       "</table>\n",
       "</div>"
      ],
      "text/plain": [
       "   Price departure_time arrival_time Cabin  Dept_city  Dept_date arrival_city  \\\n",
       "0   3112          14:30        20:20     E  New Delhi          1      Mumbai    \n",
       "1   3113          16:55        21:10     E  New Delhi          1      Mumbai    \n",
       "2   3113          16:45        21:05     E  New Delhi          1      Mumbai    \n",
       "3   3113          07:55        13:00     E  New Delhi          1      Mumbai    \n",
       "4   3113          09:00        14:20     E  New Delhi          1      Mumbai    \n",
       "\n",
       "   stops  duration  weekday  dept_hours Dept_flights_time  optimal_hours  \\\n",
       "0      1       350        5          14  Afternoon_flight             11   \n",
       "1      1       255        5          16    Evening_flight             13   \n",
       "2      1       260        5          16    Evening_flight             13   \n",
       "3      1       305        5           7    Morning_flight              4   \n",
       "4      1       320        5           9    Morning_flight              6   \n",
       "\n",
       "  Airline1 Airline2  \n",
       "0  AirAsia     None  \n",
       "1   Go Air     None  \n",
       "2   Go Air     None  \n",
       "3   Go Air     None  \n",
       "4   Go Air     None  "
      ]
     },
     "execution_count": 13,
     "metadata": {},
     "output_type": "execute_result"
    }
   ],
   "source": [
    "df1.head()"
   ]
  },
  {
   "cell_type": "markdown",
   "id": "3f44791e",
   "metadata": {},
   "source": [
    "Cleaning the distorted data of Airlines columns by splitting the multivalued rows into two columns."
   ]
  },
  {
   "cell_type": "markdown",
   "id": "fb0b7415",
   "metadata": {},
   "source": [
    "Handling Time Variables"
   ]
  },
  {
   "cell_type": "code",
   "execution_count": 14,
   "id": "d90af7f3",
   "metadata": {},
   "outputs": [],
   "source": [
    "df1[\"Dep_hour\"] = pd.to_datetime(df1[\"departure_time\"]).dt.hour\n",
    "df1[\"Dep_mins\"] = pd.to_datetime(df1[\"departure_time\"]).dt.minute\n",
    "\n",
    "df1[\"Arrival_hour\"] = pd.to_datetime(df1.arrival_time).dt.hour\n",
    "df1[\"Arrival_mins\"] = pd.to_datetime(df1.arrival_time).dt.minute"
   ]
  },
  {
   "cell_type": "code",
   "execution_count": 15,
   "id": "7160ffcf",
   "metadata": {},
   "outputs": [
    {
     "data": {
      "text/html": [
       "<div>\n",
       "<style scoped>\n",
       "    .dataframe tbody tr th:only-of-type {\n",
       "        vertical-align: middle;\n",
       "    }\n",
       "\n",
       "    .dataframe tbody tr th {\n",
       "        vertical-align: top;\n",
       "    }\n",
       "\n",
       "    .dataframe thead th {\n",
       "        text-align: right;\n",
       "    }\n",
       "</style>\n",
       "<table border=\"1\" class=\"dataframe\">\n",
       "  <thead>\n",
       "    <tr style=\"text-align: right;\">\n",
       "      <th></th>\n",
       "      <th>Price</th>\n",
       "      <th>departure_time</th>\n",
       "      <th>arrival_time</th>\n",
       "      <th>Cabin</th>\n",
       "      <th>Dept_city</th>\n",
       "      <th>Dept_date</th>\n",
       "      <th>arrival_city</th>\n",
       "      <th>stops</th>\n",
       "      <th>duration</th>\n",
       "      <th>weekday</th>\n",
       "      <th>dept_hours</th>\n",
       "      <th>Dept_flights_time</th>\n",
       "      <th>optimal_hours</th>\n",
       "      <th>Airline1</th>\n",
       "      <th>Airline2</th>\n",
       "      <th>Dep_hour</th>\n",
       "      <th>Dep_mins</th>\n",
       "      <th>Arrival_hour</th>\n",
       "      <th>Arrival_mins</th>\n",
       "    </tr>\n",
       "  </thead>\n",
       "  <tbody>\n",
       "    <tr>\n",
       "      <th>0</th>\n",
       "      <td>3112</td>\n",
       "      <td>14:30</td>\n",
       "      <td>20:20</td>\n",
       "      <td>E</td>\n",
       "      <td>New Delhi</td>\n",
       "      <td>1</td>\n",
       "      <td>Mumbai</td>\n",
       "      <td>1</td>\n",
       "      <td>350</td>\n",
       "      <td>5</td>\n",
       "      <td>14</td>\n",
       "      <td>Afternoon_flight</td>\n",
       "      <td>11</td>\n",
       "      <td>AirAsia</td>\n",
       "      <td>None</td>\n",
       "      <td>14</td>\n",
       "      <td>30</td>\n",
       "      <td>20</td>\n",
       "      <td>20</td>\n",
       "    </tr>\n",
       "    <tr>\n",
       "      <th>1</th>\n",
       "      <td>3113</td>\n",
       "      <td>16:55</td>\n",
       "      <td>21:10</td>\n",
       "      <td>E</td>\n",
       "      <td>New Delhi</td>\n",
       "      <td>1</td>\n",
       "      <td>Mumbai</td>\n",
       "      <td>1</td>\n",
       "      <td>255</td>\n",
       "      <td>5</td>\n",
       "      <td>16</td>\n",
       "      <td>Evening_flight</td>\n",
       "      <td>13</td>\n",
       "      <td>Go Air</td>\n",
       "      <td>None</td>\n",
       "      <td>16</td>\n",
       "      <td>55</td>\n",
       "      <td>21</td>\n",
       "      <td>10</td>\n",
       "    </tr>\n",
       "    <tr>\n",
       "      <th>2</th>\n",
       "      <td>3113</td>\n",
       "      <td>16:45</td>\n",
       "      <td>21:05</td>\n",
       "      <td>E</td>\n",
       "      <td>New Delhi</td>\n",
       "      <td>1</td>\n",
       "      <td>Mumbai</td>\n",
       "      <td>1</td>\n",
       "      <td>260</td>\n",
       "      <td>5</td>\n",
       "      <td>16</td>\n",
       "      <td>Evening_flight</td>\n",
       "      <td>13</td>\n",
       "      <td>Go Air</td>\n",
       "      <td>None</td>\n",
       "      <td>16</td>\n",
       "      <td>45</td>\n",
       "      <td>21</td>\n",
       "      <td>5</td>\n",
       "    </tr>\n",
       "    <tr>\n",
       "      <th>3</th>\n",
       "      <td>3113</td>\n",
       "      <td>07:55</td>\n",
       "      <td>13:00</td>\n",
       "      <td>E</td>\n",
       "      <td>New Delhi</td>\n",
       "      <td>1</td>\n",
       "      <td>Mumbai</td>\n",
       "      <td>1</td>\n",
       "      <td>305</td>\n",
       "      <td>5</td>\n",
       "      <td>7</td>\n",
       "      <td>Morning_flight</td>\n",
       "      <td>4</td>\n",
       "      <td>Go Air</td>\n",
       "      <td>None</td>\n",
       "      <td>7</td>\n",
       "      <td>55</td>\n",
       "      <td>13</td>\n",
       "      <td>0</td>\n",
       "    </tr>\n",
       "    <tr>\n",
       "      <th>4</th>\n",
       "      <td>3113</td>\n",
       "      <td>09:00</td>\n",
       "      <td>14:20</td>\n",
       "      <td>E</td>\n",
       "      <td>New Delhi</td>\n",
       "      <td>1</td>\n",
       "      <td>Mumbai</td>\n",
       "      <td>1</td>\n",
       "      <td>320</td>\n",
       "      <td>5</td>\n",
       "      <td>9</td>\n",
       "      <td>Morning_flight</td>\n",
       "      <td>6</td>\n",
       "      <td>Go Air</td>\n",
       "      <td>None</td>\n",
       "      <td>9</td>\n",
       "      <td>0</td>\n",
       "      <td>14</td>\n",
       "      <td>20</td>\n",
       "    </tr>\n",
       "  </tbody>\n",
       "</table>\n",
       "</div>"
      ],
      "text/plain": [
       "   Price departure_time arrival_time Cabin  Dept_city  Dept_date arrival_city  \\\n",
       "0   3112          14:30        20:20     E  New Delhi          1      Mumbai    \n",
       "1   3113          16:55        21:10     E  New Delhi          1      Mumbai    \n",
       "2   3113          16:45        21:05     E  New Delhi          1      Mumbai    \n",
       "3   3113          07:55        13:00     E  New Delhi          1      Mumbai    \n",
       "4   3113          09:00        14:20     E  New Delhi          1      Mumbai    \n",
       "\n",
       "   stops  duration  weekday  dept_hours Dept_flights_time  optimal_hours  \\\n",
       "0      1       350        5          14  Afternoon_flight             11   \n",
       "1      1       255        5          16    Evening_flight             13   \n",
       "2      1       260        5          16    Evening_flight             13   \n",
       "3      1       305        5           7    Morning_flight              4   \n",
       "4      1       320        5           9    Morning_flight              6   \n",
       "\n",
       "  Airline1 Airline2  Dep_hour  Dep_mins  Arrival_hour  Arrival_mins  \n",
       "0  AirAsia     None        14        30            20            20  \n",
       "1   Go Air     None        16        55            21            10  \n",
       "2   Go Air     None        16        45            21             5  \n",
       "3   Go Air     None         7        55            13             0  \n",
       "4   Go Air     None         9         0            14            20  "
      ]
     },
     "execution_count": 15,
     "metadata": {},
     "output_type": "execute_result"
    }
   ],
   "source": [
    "df1.head()"
   ]
  },
  {
   "cell_type": "markdown",
   "id": "969b984f",
   "metadata": {},
   "source": [
    "# Handle Missing Values"
   ]
  },
  {
   "cell_type": "code",
   "execution_count": 16,
   "id": "c334a90c",
   "metadata": {},
   "outputs": [
    {
     "data": {
      "text/plain": [
       "Price                 0.000000\n",
       "departure_time        0.000000\n",
       "arrival_time          0.000000\n",
       "Cabin                 0.000000\n",
       "Dept_city             0.000000\n",
       "Dept_date             0.000000\n",
       "arrival_city          0.000000\n",
       "stops                 0.000000\n",
       "duration              0.000000\n",
       "weekday               0.000000\n",
       "dept_hours            0.000000\n",
       "Dept_flights_time     0.000000\n",
       "optimal_hours         0.000000\n",
       "Airline1              0.000000\n",
       "Airline2             84.856076\n",
       "Dep_hour              0.000000\n",
       "Dep_mins              0.000000\n",
       "Arrival_hour          0.000000\n",
       "Arrival_mins          0.000000\n",
       "dtype: float64"
      ]
     },
     "execution_count": 16,
     "metadata": {},
     "output_type": "execute_result"
    }
   ],
   "source": [
    "(df1.isnull().sum()/df1.shape[0])*100"
   ]
  },
  {
   "cell_type": "markdown",
   "id": "83b70c3e",
   "metadata": {},
   "source": [
    "Approximately 89% of the data in Airline2 is missing after splitting the column Airline"
   ]
  },
  {
   "cell_type": "code",
   "execution_count": 17,
   "id": "6da3836a",
   "metadata": {},
   "outputs": [
    {
     "data": {
      "text/plain": [
       "(330938, 19)"
      ]
     },
     "execution_count": 17,
     "metadata": {},
     "output_type": "execute_result"
    }
   ],
   "source": [
    "df1.shape"
   ]
  },
  {
   "cell_type": "code",
   "execution_count": 18,
   "id": "a6a917d7",
   "metadata": {},
   "outputs": [],
   "source": [
    "df1['Airline2']=df1[\"Airline2\"].fillna(df1[\"Airline1\"])"
   ]
  },
  {
   "cell_type": "code",
   "execution_count": 19,
   "id": "a34411ff",
   "metadata": {},
   "outputs": [
    {
     "data": {
      "text/plain": [
       "Price                0.0\n",
       "departure_time       0.0\n",
       "arrival_time         0.0\n",
       "Cabin                0.0\n",
       "Dept_city            0.0\n",
       "Dept_date            0.0\n",
       "arrival_city         0.0\n",
       "stops                0.0\n",
       "duration             0.0\n",
       "weekday              0.0\n",
       "dept_hours           0.0\n",
       "Dept_flights_time    0.0\n",
       "optimal_hours        0.0\n",
       "Airline1             0.0\n",
       "Airline2             0.0\n",
       "Dep_hour             0.0\n",
       "Dep_mins             0.0\n",
       "Arrival_hour         0.0\n",
       "Arrival_mins         0.0\n",
       "dtype: float64"
      ]
     },
     "execution_count": 19,
     "metadata": {},
     "output_type": "execute_result"
    }
   ],
   "source": [
    "(df1.isnull().sum()/df1.shape[0])*100"
   ]
  },
  {
   "cell_type": "markdown",
   "id": "7570da15",
   "metadata": {},
   "source": [
    "# Data Visualization"
   ]
  },
  {
   "cell_type": "code",
   "execution_count": 20,
   "id": "04fb075f",
   "metadata": {
    "scrolled": false
   },
   "outputs": [
    {
     "data": {
      "text/plain": [
       "<AxesSubplot:xlabel='Dept_flights_time', ylabel='count'>"
      ]
     },
     "execution_count": 20,
     "metadata": {},
     "output_type": "execute_result"
    },
    {
     "data": {
      "image/png": "[encoded data removed]",
      "text/plain": [
       "<Figure size 1080x595.44 with 1 Axes>"
      ]
     },
     "metadata": {
      "needs_background": "light"
     },
     "output_type": "display_data"
    }
   ],
   "source": [
    "rcParams['figure.figsize'] = 15.0,8.27\n",
    "sns.countplot(df1['Dept_flights_time'])"
   ]
  },
  {
   "cell_type": "markdown",
   "id": "92c88f45",
   "metadata": {},
   "source": [
    "This graph shows the number of flights taken at different times of the day. Morning flights are the greatest followed by afternoon flights, evening flights and the least flights are taken off at night."
   ]
  },
  {
   "cell_type": "code",
   "execution_count": 21,
   "id": "7f40b99c",
   "metadata": {},
   "outputs": [
    {
     "data": {
      "text/plain": [
       "<AxesSubplot:xlabel='Cabin', ylabel='count'>"
      ]
     },
     "execution_count": 21,
     "metadata": {},
     "output_type": "execute_result"
    },
    {
     "data": {
      "image/png": "[encoded data removed]",
      "text/plain": [
       "<Figure size 1080x595.44 with 1 Axes>"
      ]
     },
     "metadata": {
      "needs_background": "light"
     },
     "output_type": "display_data"
    }
   ],
   "source": [
    "sns.countplot(df1['Cabin'])"
   ]
  },
  {
   "cell_type": "markdown",
   "id": "19b69f6a",
   "metadata": {},
   "source": [
    "Economy class is the most preferred one"
   ]
  },
  {
   "cell_type": "code",
   "execution_count": 22,
   "id": "c99de0f5",
   "metadata": {},
   "outputs": [
    {
     "data": {
      "text/plain": [
       "New Delhi             21849\n",
       "Mumbai                19875\n",
       "Bengaluru             17575\n",
       "Hyderabad             16565\n",
       "Kolkata               16309\n",
       "Chennai               15200\n",
       "Patna                 13472\n",
       "Srinagar              13063\n",
       "Goa                   12870\n",
       "Lucknow               12601\n",
       "Guwahati              12168\n",
       "Amritsar              11833\n",
       "Kochi                 11326\n",
       "Pune                  10898\n",
       "Jaipur                10652\n",
       "Varanasi              10525\n",
       "Bhubaneswar           10493\n",
       "Bagdogra              10340\n",
       "Chandigarh             9441\n",
       "Ranchi                 9426\n",
       "Visakhapatnam          9270\n",
       "Indore                 8549\n",
       "Raipur                 8469\n",
       "Nagpur                 7485\n",
       "Port Blair             7362\n",
       "Mangalore              6842\n",
       "Coimbatore             6284\n",
       "Thiruvananthapuram     5440\n",
       "Kozhikode              2854\n",
       "Tiruchirappalli        1902\n",
       "Name: Dept_city, dtype: int64"
      ]
     },
     "execution_count": 22,
     "metadata": {},
     "output_type": "execute_result"
    }
   ],
   "source": [
    "df1['Dept_city'].value_counts()"
   ]
  },
  {
   "cell_type": "code",
   "execution_count": 23,
   "id": "9f934439",
   "metadata": {},
   "outputs": [
    {
     "data": {
      "text/plain": [
       "<AxesSubplot:xlabel='Dept_city', ylabel='count'>"
      ]
     },
     "execution_count": 23,
     "metadata": {},
     "output_type": "execute_result"
    },
    {
     "data": {
      "image/png": "[encoded data removed]",
      "text/plain": [
       "<Figure size 1080x595.44 with 1 Axes>"
      ]
     },
     "metadata": {
      "needs_background": "light"
     },
     "output_type": "display_data"
    }
   ],
   "source": [
    "sns.countplot(df1['Dept_city'])"
   ]
  },
  {
   "cell_type": "code",
   "execution_count": 24,
   "id": "13162e6c",
   "metadata": {
    "scrolled": true
   },
   "outputs": [
    {
     "data": {
      "text/plain": [
       "<AxesSubplot:xlabel='Airline1', ylabel='count'>"
      ]
     },
     "execution_count": 24,
     "metadata": {},
     "output_type": "execute_result"
    },
    {
     "data": {
      "image/png": "[encoded data removed]",
      "text/plain": [
       "<Figure size 1080x595.44 with 1 Axes>"
      ]
     },
     "metadata": {
      "needs_background": "light"
     },
     "output_type": "display_data"
    }
   ],
   "source": [
    "sns.countplot(df1['Airline1'])"
   ]
  },
  {
   "cell_type": "code",
   "execution_count": 25,
   "id": "29647de4",
   "metadata": {},
   "outputs": [
    {
     "data": {
      "text/plain": [
       "<AxesSubplot:xlabel='Airline2', ylabel='count'>"
      ]
     },
     "execution_count": 25,
     "metadata": {},
     "output_type": "execute_result"
    },
    {
     "data": {
      "image/png": "[encoded data removed]",
      "text/plain": [
       "<Figure size 1080x595.44 with 1 Axes>"
      ]
     },
     "metadata": {
      "needs_background": "light"
     },
     "output_type": "display_data"
    }
   ],
   "source": [
    "sns.countplot(df1['Airline2'])"
   ]
  },
  {
   "cell_type": "code",
   "execution_count": 26,
   "id": "5075c669",
   "metadata": {},
   "outputs": [
    {
     "data": {
      "text/plain": [
       "<AxesSubplot:xlabel='Price'>"
      ]
     },
     "execution_count": 26,
     "metadata": {},
     "output_type": "execute_result"
    },
    {
     "data": {
      "image/png": "[encoded data removed]",
      "text/plain": [
       "<Figure size 1080x595.44 with 1 Axes>"
      ]
     },
     "metadata": {
      "needs_background": "light"
     },
     "output_type": "display_data"
    }
   ],
   "source": [
    "sns.boxplot(df1['Price'])"
   ]
  },
  {
   "cell_type": "markdown",
   "id": "a61e98ee",
   "metadata": {},
   "source": [
    "There are extreme outliers present in the price data"
   ]
  },
  {
   "cell_type": "markdown",
   "id": "b05ce34c",
   "metadata": {},
   "source": [
    "# Bivariate Analysis"
   ]
  },
  {
   "cell_type": "markdown",
   "id": "ba14b977",
   "metadata": {},
   "source": [
    "How the Airline variable is related to the Price variable."
   ]
  },
  {
   "cell_type": "code",
   "execution_count": 27,
   "id": "bd573b11",
   "metadata": {},
   "outputs": [
    {
     "data": {
      "image/png": "[encoded data removed]",
      "text/plain": [
       "<Figure size 1296x432 with 1 Axes>"
      ]
     },
     "metadata": {},
     "output_type": "display_data"
    }
   ],
   "source": [
    "sns.set()\n",
    "sns.catplot(y = \"Price\", x = \"Airline1\", data = df1.sort_values(\"Price\", ascending = False), kind=\"boxen\", height = 6, aspect = 3)\n",
    "plt.show()"
   ]
  },
  {
   "cell_type": "markdown",
   "id": "9180605d",
   "metadata": {},
   "source": [
    "Especially for the Airlines like ArIndia and Vistara we can see that the data has a lot of abnormality"
   ]
  },
  {
   "cell_type": "code",
   "execution_count": 28,
   "id": "e78933e5",
   "metadata": {},
   "outputs": [
    {
     "data": {
      "image/png": "[encoded data removed]",
      "text/plain": [
       "<Figure size 1296x432 with 1 Axes>"
      ]
     },
     "metadata": {},
     "output_type": "display_data"
    }
   ],
   "source": [
    "sns.set()\n",
    "sns.catplot(y = \"Price\", x = \"Airline2\", data = df1.sort_values(\"Price\", ascending = False), kind=\"boxen\", height = 6, aspect = 3)\n",
    "plt.show()"
   ]
  },
  {
   "cell_type": "markdown",
   "id": "c0d7dce1",
   "metadata": {},
   "source": [
    "# check the distribution of the data"
   ]
  },
  {
   "cell_type": "code",
   "execution_count": 29,
   "id": "f22e729d",
   "metadata": {},
   "outputs": [
    {
     "data": {
      "text/plain": [
       "Price            2.120696\n",
       "Dept_date       -0.016088\n",
       "stops            0.837965\n",
       "duration         0.516965\n",
       "weekday          0.034272\n",
       "dept_hours       0.249803\n",
       "optimal_hours   -0.265833\n",
       "Dep_hour         0.249803\n",
       "Dep_mins         0.077710\n",
       "Arrival_hour    -0.229559\n",
       "Arrival_mins     0.017710\n",
       "dtype: float64"
      ]
     },
     "execution_count": 29,
     "metadata": {},
     "output_type": "execute_result"
    }
   ],
   "source": [
    "df1.skew()"
   ]
  },
  {
   "cell_type": "markdown",
   "id": "763a9baa",
   "metadata": {},
   "source": [
    "_The variables with skewness > 1 such as wheelbase, compressionratio, horsepower, price are highly positively skewed.\n",
    "\n",
    "_The variables with skewness < -1 are highly negatively skewed.\n",
    "\n",
    "_The variables with 0.5 < skewness < 1 such as carwidth, curbweight, citympg are moderately positively skewed.\n",
    "\n",
    "_The variables with -0.5 < skewness < -1 such as stroke are moderately negatively skewed.\n",
    "\n",
    "And, the variables with -0.5 < skewness < 0.5 are symmetric i.e normally distributed such as symboling, carheight, boreration, peakrpm, highwaympg."
   ]
  },
  {
   "cell_type": "code",
   "execution_count": 31,
   "id": "12676036",
   "metadata": {},
   "outputs": [],
   "source": [
    "\n",
    "def plot_dist(df1,col):\n",
    "    plt.figure(figsize=(8,8))\n",
    "    plt.subplot(1,2,1)\n",
    "    sns.distplot(df1[col], fit=norm)\n",
    "    plt.subplot(1,2,2)\n",
    "    stats.probplot(df1[col], plot=plt)\n",
    "    plt.show()"
   ]
  },
  {
   "cell_type": "code",
   "execution_count": 32,
   "id": "19fe338c",
   "metadata": {},
   "outputs": [
    {
     "data": {
      "image/png": "[encoded data removed]",
      "text/plain": [
       "<Figure size 576x576 with 2 Axes>"
      ]
     },
     "metadata": {},
     "output_type": "display_data"
    }
   ],
   "source": [
    "plot_dist(df1,'duration')"
   ]
  },
  {
   "cell_type": "code",
   "execution_count": 33,
   "id": "607dc00a",
   "metadata": {},
   "outputs": [
    {
     "data": {
      "image/png": "[encoded data removed]",
      "text/plain": [
       "<Figure size 576x576 with 2 Axes>"
      ]
     },
     "metadata": {},
     "output_type": "display_data"
    }
   ],
   "source": [
    "plot_dist(df1,'Price')"
   ]
  },
  {
   "cell_type": "code",
   "execution_count": 34,
   "id": "ef0a7bf9",
   "metadata": {},
   "outputs": [
    {
     "data": {
      "image/png": "[encoded data removed]",
      "text/plain": [
       "<Figure size 576x576 with 2 Axes>"
      ]
     },
     "metadata": {},
     "output_type": "display_data"
    }
   ],
   "source": [
    "plot_dist(df1,'stops')"
   ]
  },
  {
   "cell_type": "code",
   "execution_count": 35,
   "id": "312dbe4a",
   "metadata": {},
   "outputs": [
    {
     "data": {
      "image/png": "[encoded data removed]",
      "text/plain": [
       "<Figure size 576x576 with 2 Axes>"
      ]
     },
     "metadata": {},
     "output_type": "display_data"
    }
   ],
   "source": [
    "plot_dist(df1,'dept_hours')"
   ]
  },
  {
   "cell_type": "code",
   "execution_count": 36,
   "id": "984f250b",
   "metadata": {},
   "outputs": [
    {
     "data": {
      "image/png": "[encoded data removed]",
      "text/plain": [
       "<Figure size 576x576 with 2 Axes>"
      ]
     },
     "metadata": {},
     "output_type": "display_data"
    }
   ],
   "source": [
    "plot_dist(df1,'optimal_hours')"
   ]
  },
  {
   "cell_type": "markdown",
   "id": "7ed7bf5c",
   "metadata": {},
   "source": [
    "transforming the columns with normal distribution using the logg techniqe"
   ]
  },
  {
   "cell_type": "code",
   "execution_count": 37,
   "id": "da947bdb",
   "metadata": {},
   "outputs": [],
   "source": [
    "df1['Price']=np.log(df1['Price'])\n"
   ]
  },
  {
   "cell_type": "code",
   "execution_count": 38,
   "id": "25bb8405",
   "metadata": {},
   "outputs": [
    {
     "data": {
      "image/png": "[encoded data removed]",
      "text/plain": [
       "<Figure size 576x576 with 2 Axes>"
      ]
     },
     "metadata": {},
     "output_type": "display_data"
    }
   ],
   "source": [
    "plot_dist(df1, 'Price')"
   ]
  },
  {
   "cell_type": "markdown",
   "id": "2fe683a3",
   "metadata": {},
   "source": [
    "# Feature Engineering"
   ]
  },
  {
   "cell_type": "code",
   "execution_count": null,
   "id": "28b67fc6",
   "metadata": {},
   "outputs": [],
   "source": []
  },
  {
   "cell_type": "code",
   "execution_count": 39,
   "id": "a64619eb",
   "metadata": {},
   "outputs": [
    {
     "data": {
      "text/html": [
       "<div>\n",
       "<style scoped>\n",
       "    .dataframe tbody tr th:only-of-type {\n",
       "        vertical-align: middle;\n",
       "    }\n",
       "\n",
       "    .dataframe tbody tr th {\n",
       "        vertical-align: top;\n",
       "    }\n",
       "\n",
       "    .dataframe thead th {\n",
       "        text-align: right;\n",
       "    }\n",
       "</style>\n",
       "<table border=\"1\" class=\"dataframe\">\n",
       "  <thead>\n",
       "    <tr style=\"text-align: right;\">\n",
       "      <th></th>\n",
       "      <th>Price</th>\n",
       "      <th>Dept_date</th>\n",
       "      <th>stops</th>\n",
       "      <th>duration</th>\n",
       "      <th>weekday</th>\n",
       "      <th>dept_hours</th>\n",
       "      <th>optimal_hours</th>\n",
       "      <th>Dep_hour</th>\n",
       "      <th>Dep_mins</th>\n",
       "      <th>Arrival_hour</th>\n",
       "      <th>Arrival_mins</th>\n",
       "    </tr>\n",
       "  </thead>\n",
       "  <tbody>\n",
       "    <tr>\n",
       "      <th>count</th>\n",
       "      <td>330938.000000</td>\n",
       "      <td>330938.000000</td>\n",
       "      <td>330938.000000</td>\n",
       "      <td>330938.000000</td>\n",
       "      <td>330938.000000</td>\n",
       "      <td>330938.000000</td>\n",
       "      <td>330938.000000</td>\n",
       "      <td>330938.000000</td>\n",
       "      <td>330938.000000</td>\n",
       "      <td>330938.000000</td>\n",
       "      <td>330938.000000</td>\n",
       "    </tr>\n",
       "    <tr>\n",
       "      <th>mean</th>\n",
       "      <td>9.146264</td>\n",
       "      <td>16.713064</td>\n",
       "      <td>1.278974</td>\n",
       "      <td>590.186636</td>\n",
       "      <td>2.902087</td>\n",
       "      <td>12.602539</td>\n",
       "      <td>12.568575</td>\n",
       "      <td>12.602539</td>\n",
       "      <td>26.543310</td>\n",
       "      <td>14.549160</td>\n",
       "      <td>27.606848</td>\n",
       "    </tr>\n",
       "    <tr>\n",
       "      <th>std</th>\n",
       "      <td>0.807699</td>\n",
       "      <td>8.166245</td>\n",
       "      <td>0.802891</td>\n",
       "      <td>364.512309</td>\n",
       "      <td>2.088561</td>\n",
       "      <td>4.848977</td>\n",
       "      <td>6.882780</td>\n",
       "      <td>4.848977</td>\n",
       "      <td>17.637922</td>\n",
       "      <td>5.277104</td>\n",
       "      <td>16.734160</td>\n",
       "    </tr>\n",
       "    <tr>\n",
       "      <th>min</th>\n",
       "      <td>7.364547</td>\n",
       "      <td>1.000000</td>\n",
       "      <td>0.000000</td>\n",
       "      <td>0.000000</td>\n",
       "      <td>0.000000</td>\n",
       "      <td>0.000000</td>\n",
       "      <td>0.000000</td>\n",
       "      <td>0.000000</td>\n",
       "      <td>0.000000</td>\n",
       "      <td>0.000000</td>\n",
       "      <td>0.000000</td>\n",
       "    </tr>\n",
       "    <tr>\n",
       "      <th>25%</th>\n",
       "      <td>8.603371</td>\n",
       "      <td>10.000000</td>\n",
       "      <td>1.000000</td>\n",
       "      <td>325.000000</td>\n",
       "      <td>1.000000</td>\n",
       "      <td>9.000000</td>\n",
       "      <td>7.000000</td>\n",
       "      <td>9.000000</td>\n",
       "      <td>10.000000</td>\n",
       "      <td>10.000000</td>\n",
       "      <td>15.000000</td>\n",
       "    </tr>\n",
       "    <tr>\n",
       "      <th>50%</th>\n",
       "      <td>8.930494</td>\n",
       "      <td>17.000000</td>\n",
       "      <td>1.000000</td>\n",
       "      <td>515.000000</td>\n",
       "      <td>3.000000</td>\n",
       "      <td>12.000000</td>\n",
       "      <td>13.000000</td>\n",
       "      <td>12.000000</td>\n",
       "      <td>25.000000</td>\n",
       "      <td>15.000000</td>\n",
       "      <td>25.000000</td>\n",
       "    </tr>\n",
       "    <tr>\n",
       "      <th>75%</th>\n",
       "      <td>9.370927</td>\n",
       "      <td>24.000000</td>\n",
       "      <td>2.000000</td>\n",
       "      <td>845.000000</td>\n",
       "      <td>5.000000</td>\n",
       "      <td>16.000000</td>\n",
       "      <td>18.000000</td>\n",
       "      <td>16.000000</td>\n",
       "      <td>40.000000</td>\n",
       "      <td>19.000000</td>\n",
       "      <td>40.000000</td>\n",
       "    </tr>\n",
       "    <tr>\n",
       "      <th>max</th>\n",
       "      <td>11.656437</td>\n",
       "      <td>31.000000</td>\n",
       "      <td>6.000000</td>\n",
       "      <td>1435.000000</td>\n",
       "      <td>6.000000</td>\n",
       "      <td>23.000000</td>\n",
       "      <td>23.000000</td>\n",
       "      <td>23.000000</td>\n",
       "      <td>55.000000</td>\n",
       "      <td>23.000000</td>\n",
       "      <td>55.000000</td>\n",
       "    </tr>\n",
       "  </tbody>\n",
       "</table>\n",
       "</div>"
      ],
      "text/plain": [
       "               Price      Dept_date          stops       duration  \\\n",
       "count  330938.000000  330938.000000  330938.000000  330938.000000   \n",
       "mean        9.146264      16.713064       1.278974     590.186636   \n",
       "std         0.807699       8.166245       0.802891     364.512309   \n",
       "min         7.364547       1.000000       0.000000       0.000000   \n",
       "25%         8.603371      10.000000       1.000000     325.000000   \n",
       "50%         8.930494      17.000000       1.000000     515.000000   \n",
       "75%         9.370927      24.000000       2.000000     845.000000   \n",
       "max        11.656437      31.000000       6.000000    1435.000000   \n",
       "\n",
       "             weekday     dept_hours  optimal_hours       Dep_hour  \\\n",
       "count  330938.000000  330938.000000  330938.000000  330938.000000   \n",
       "mean        2.902087      12.602539      12.568575      12.602539   \n",
       "std         2.088561       4.848977       6.882780       4.848977   \n",
       "min         0.000000       0.000000       0.000000       0.000000   \n",
       "25%         1.000000       9.000000       7.000000       9.000000   \n",
       "50%         3.000000      12.000000      13.000000      12.000000   \n",
       "75%         5.000000      16.000000      18.000000      16.000000   \n",
       "max         6.000000      23.000000      23.000000      23.000000   \n",
       "\n",
       "            Dep_mins   Arrival_hour   Arrival_mins  \n",
       "count  330938.000000  330938.000000  330938.000000  \n",
       "mean       26.543310      14.549160      27.606848  \n",
       "std        17.637922       5.277104      16.734160  \n",
       "min         0.000000       0.000000       0.000000  \n",
       "25%        10.000000      10.000000      15.000000  \n",
       "50%        25.000000      15.000000      25.000000  \n",
       "75%        40.000000      19.000000      40.000000  \n",
       "max        55.000000      23.000000      55.000000  "
      ]
     },
     "execution_count": 39,
     "metadata": {},
     "output_type": "execute_result"
    }
   ],
   "source": [
    "df1.describe()"
   ]
  },
  {
   "cell_type": "markdown",
   "id": "8a322f7c",
   "metadata": {},
   "source": [
    "Ideal Ranges for the numerical data:\n",
    "\n",
    "1. Price <= 50000\n",
    "2. 1<= Dept_date <= 31\n",
    "3. 0<= stops <= 6\n",
    "4. duration != 0 \n",
    "5. 0<= weekday <= 7\n",
    "6. 0<= dept_hours <= 23\n",
    "7. 0<= optimal_hours <= 23\n",
    "8. 0<= Dep_hour <= 23\n",
    "9. 0<= Dep_mins <= 59\n",
    "10. 0<= Arrival_hour <= 23\n",
    "11. 0<= Arrival_mins <= 59"
   ]
  },
  {
   "cell_type": "markdown",
   "id": "e29983f5",
   "metadata": {},
   "source": [
    "Dropping unnecessary columns"
   ]
  },
  {
   "cell_type": "code",
   "execution_count": 40,
   "id": "d6005ce9",
   "metadata": {},
   "outputs": [],
   "source": [
    "df1 = df1.drop(columns = ['departure_time','arrival_time'])"
   ]
  },
  {
   "cell_type": "code",
   "execution_count": 41,
   "id": "fe2146de",
   "metadata": {},
   "outputs": [
    {
     "data": {
      "text/plain": [
       "['Dept_date',\n",
       " 'stops',\n",
       " 'duration',\n",
       " 'weekday',\n",
       " 'dept_hours',\n",
       " 'optimal_hours',\n",
       " 'Dep_hour',\n",
       " 'Dep_mins',\n",
       " 'Arrival_hour',\n",
       " 'Arrival_mins']"
      ]
     },
     "execution_count": 41,
     "metadata": {},
     "output_type": "execute_result"
    }
   ],
   "source": [
    "features = []\n",
    "for i in df1.columns:\n",
    "    if df1[i].dtypes == 'int64':\n",
    "        features.append(i)\n",
    "features"
   ]
  },
  {
   "cell_type": "code",
   "execution_count": 42,
   "id": "644db375",
   "metadata": {},
   "outputs": [],
   "source": [
    "def remove_outliers(df, col):\n",
    "    Q1 = np.percentile(df[col], 25,interpolation = 'midpoint')\n",
    "    Q3 = np.percentile(df[col], 75,interpolation = 'midpoint')\n",
    "    IQR = Q3 - Q1\n",
    "    # Upper bound\n",
    "    upper = (Q3+1.5*IQR)\n",
    "    # Lower bound\n",
    "    lower = (Q1-1.5*IQR)\n",
    "    return lower,upper"
   ]
  },
  {
   "cell_type": "code",
   "execution_count": 43,
   "id": "167719e8",
   "metadata": {},
   "outputs": [],
   "source": [
    "lower, upper = remove_outliers(df1,'Price')\n",
    "df1['Price']=np.where(df1['Price']>upper,upper,df1['Price'])\n",
    "df1['Price']=np.where(df1['Price']<lower,lower,df1['Price'])"
   ]
  },
  {
   "cell_type": "code",
   "execution_count": 44,
   "id": "6b1be94d",
   "metadata": {},
   "outputs": [
    {
     "data": {
      "text/plain": [
       "<AxesSubplot:xlabel='Price'>"
      ]
     },
     "execution_count": 44,
     "metadata": {},
     "output_type": "execute_result"
    },
    {
     "data": {
      "image/png": "[encoded data removed]",
      "text/plain": [
       "<Figure size 1080x595.44 with 1 Axes>"
      ]
     },
     "metadata": {},
     "output_type": "display_data"
    }
   ],
   "source": [
    "sns.boxplot(df1['Price'])"
   ]
  },
  {
   "cell_type": "code",
   "execution_count": 45,
   "id": "ec1e13e1",
   "metadata": {},
   "outputs": [
    {
     "data": {
      "text/html": [
       "<div>\n",
       "<style scoped>\n",
       "    .dataframe tbody tr th:only-of-type {\n",
       "        vertical-align: middle;\n",
       "    }\n",
       "\n",
       "    .dataframe tbody tr th {\n",
       "        vertical-align: top;\n",
       "    }\n",
       "\n",
       "    .dataframe thead th {\n",
       "        text-align: right;\n",
       "    }\n",
       "</style>\n",
       "<table border=\"1\" class=\"dataframe\">\n",
       "  <thead>\n",
       "    <tr style=\"text-align: right;\">\n",
       "      <th></th>\n",
       "      <th>Price</th>\n",
       "      <th>Cabin</th>\n",
       "      <th>Dept_city</th>\n",
       "      <th>Dept_date</th>\n",
       "      <th>arrival_city</th>\n",
       "      <th>stops</th>\n",
       "      <th>duration</th>\n",
       "      <th>weekday</th>\n",
       "      <th>dept_hours</th>\n",
       "      <th>Dept_flights_time</th>\n",
       "      <th>optimal_hours</th>\n",
       "      <th>Airline1</th>\n",
       "      <th>Airline2</th>\n",
       "      <th>Dep_hour</th>\n",
       "      <th>Dep_mins</th>\n",
       "      <th>Arrival_hour</th>\n",
       "      <th>Arrival_mins</th>\n",
       "    </tr>\n",
       "  </thead>\n",
       "  <tbody>\n",
       "    <tr>\n",
       "      <th>1898</th>\n",
       "      <td>9.439784</td>\n",
       "      <td>E</td>\n",
       "      <td>Kolkata</td>\n",
       "      <td>2</td>\n",
       "      <td>Goa</td>\n",
       "      <td>2</td>\n",
       "      <td>0</td>\n",
       "      <td>6</td>\n",
       "      <td>20</td>\n",
       "      <td>Evening_flight</td>\n",
       "      <td>8</td>\n",
       "      <td>Air India</td>\n",
       "      <td>Air India</td>\n",
       "      <td>20</td>\n",
       "      <td>30</td>\n",
       "      <td>20</td>\n",
       "      <td>30</td>\n",
       "    </tr>\n",
       "    <tr>\n",
       "      <th>2013</th>\n",
       "      <td>9.488654</td>\n",
       "      <td>E</td>\n",
       "      <td>Kolkata</td>\n",
       "      <td>2</td>\n",
       "      <td>Chandigarh</td>\n",
       "      <td>2</td>\n",
       "      <td>0</td>\n",
       "      <td>6</td>\n",
       "      <td>20</td>\n",
       "      <td>Evening_flight</td>\n",
       "      <td>8</td>\n",
       "      <td>Air India</td>\n",
       "      <td>Air India</td>\n",
       "      <td>20</td>\n",
       "      <td>45</td>\n",
       "      <td>20</td>\n",
       "      <td>45</td>\n",
       "    </tr>\n",
       "    <tr>\n",
       "      <th>3430</th>\n",
       "      <td>9.511037</td>\n",
       "      <td>E</td>\n",
       "      <td>Indore</td>\n",
       "      <td>2</td>\n",
       "      <td>Chennai</td>\n",
       "      <td>2</td>\n",
       "      <td>0</td>\n",
       "      <td>6</td>\n",
       "      <td>17</td>\n",
       "      <td>Evening_flight</td>\n",
       "      <td>4</td>\n",
       "      <td>Air India</td>\n",
       "      <td>Air India</td>\n",
       "      <td>17</td>\n",
       "      <td>5</td>\n",
       "      <td>17</td>\n",
       "      <td>5</td>\n",
       "    </tr>\n",
       "    <tr>\n",
       "      <th>3840</th>\n",
       "      <td>9.321166</td>\n",
       "      <td>E</td>\n",
       "      <td>Raipur</td>\n",
       "      <td>2</td>\n",
       "      <td>Hyderabad</td>\n",
       "      <td>3</td>\n",
       "      <td>0</td>\n",
       "      <td>6</td>\n",
       "      <td>18</td>\n",
       "      <td>Evening_flight</td>\n",
       "      <td>4</td>\n",
       "      <td>Air India</td>\n",
       "      <td>Air India</td>\n",
       "      <td>18</td>\n",
       "      <td>55</td>\n",
       "      <td>18</td>\n",
       "      <td>55</td>\n",
       "    </tr>\n",
       "    <tr>\n",
       "      <th>5056</th>\n",
       "      <td>9.364434</td>\n",
       "      <td>E</td>\n",
       "      <td>Bengaluru</td>\n",
       "      <td>3</td>\n",
       "      <td>Nagpur</td>\n",
       "      <td>3</td>\n",
       "      <td>0</td>\n",
       "      <td>0</td>\n",
       "      <td>7</td>\n",
       "      <td>Morning_flight</td>\n",
       "      <td>17</td>\n",
       "      <td>IndiGo</td>\n",
       "      <td>Air India</td>\n",
       "      <td>7</td>\n",
       "      <td>40</td>\n",
       "      <td>7</td>\n",
       "      <td>40</td>\n",
       "    </tr>\n",
       "    <tr>\n",
       "      <th>...</th>\n",
       "      <td>...</td>\n",
       "      <td>...</td>\n",
       "      <td>...</td>\n",
       "      <td>...</td>\n",
       "      <td>...</td>\n",
       "      <td>...</td>\n",
       "      <td>...</td>\n",
       "      <td>...</td>\n",
       "      <td>...</td>\n",
       "      <td>...</td>\n",
       "      <td>...</td>\n",
       "      <td>...</td>\n",
       "      <td>...</td>\n",
       "      <td>...</td>\n",
       "      <td>...</td>\n",
       "      <td>...</td>\n",
       "      <td>...</td>\n",
       "    </tr>\n",
       "    <tr>\n",
       "      <th>329420</th>\n",
       "      <td>8.734238</td>\n",
       "      <td>PE</td>\n",
       "      <td>Mumbai</td>\n",
       "      <td>28</td>\n",
       "      <td>Amritsar</td>\n",
       "      <td>1</td>\n",
       "      <td>0</td>\n",
       "      <td>4</td>\n",
       "      <td>20</td>\n",
       "      <td>Evening_flight</td>\n",
       "      <td>8</td>\n",
       "      <td>Spicejet</td>\n",
       "      <td>Spicejet</td>\n",
       "      <td>20</td>\n",
       "      <td>50</td>\n",
       "      <td>20</td>\n",
       "      <td>50</td>\n",
       "    </tr>\n",
       "    <tr>\n",
       "      <th>330273</th>\n",
       "      <td>8.925321</td>\n",
       "      <td>PE</td>\n",
       "      <td>Goa</td>\n",
       "      <td>29</td>\n",
       "      <td>Bagdogra</td>\n",
       "      <td>1</td>\n",
       "      <td>0</td>\n",
       "      <td>5</td>\n",
       "      <td>15</td>\n",
       "      <td>Afternoon_flight</td>\n",
       "      <td>18</td>\n",
       "      <td>Spicejet</td>\n",
       "      <td>Spicejet</td>\n",
       "      <td>15</td>\n",
       "      <td>0</td>\n",
       "      <td>15</td>\n",
       "      <td>0</td>\n",
       "    </tr>\n",
       "    <tr>\n",
       "      <th>330564</th>\n",
       "      <td>9.141847</td>\n",
       "      <td>PE</td>\n",
       "      <td>Port Blair</td>\n",
       "      <td>29</td>\n",
       "      <td>New Delhi</td>\n",
       "      <td>1</td>\n",
       "      <td>0</td>\n",
       "      <td>5</td>\n",
       "      <td>8</td>\n",
       "      <td>Morning_flight</td>\n",
       "      <td>8</td>\n",
       "      <td>Spicejet</td>\n",
       "      <td>Spicejet</td>\n",
       "      <td>8</td>\n",
       "      <td>45</td>\n",
       "      <td>8</td>\n",
       "      <td>45</td>\n",
       "    </tr>\n",
       "    <tr>\n",
       "      <th>330565</th>\n",
       "      <td>9.141847</td>\n",
       "      <td>PE</td>\n",
       "      <td>Port Blair</td>\n",
       "      <td>29</td>\n",
       "      <td>New Delhi</td>\n",
       "      <td>1</td>\n",
       "      <td>0</td>\n",
       "      <td>5</td>\n",
       "      <td>9</td>\n",
       "      <td>Morning_flight</td>\n",
       "      <td>9</td>\n",
       "      <td>Spicejet</td>\n",
       "      <td>Spicejet</td>\n",
       "      <td>9</td>\n",
       "      <td>50</td>\n",
       "      <td>9</td>\n",
       "      <td>50</td>\n",
       "    </tr>\n",
       "    <tr>\n",
       "      <th>330932</th>\n",
       "      <td>9.141847</td>\n",
       "      <td>PE</td>\n",
       "      <td>Port Blair</td>\n",
       "      <td>30</td>\n",
       "      <td>New Delhi</td>\n",
       "      <td>1</td>\n",
       "      <td>0</td>\n",
       "      <td>6</td>\n",
       "      <td>9</td>\n",
       "      <td>Morning_flight</td>\n",
       "      <td>15</td>\n",
       "      <td>Spicejet</td>\n",
       "      <td>Spicejet</td>\n",
       "      <td>9</td>\n",
       "      <td>50</td>\n",
       "      <td>9</td>\n",
       "      <td>50</td>\n",
       "    </tr>\n",
       "  </tbody>\n",
       "</table>\n",
       "<p>399 rows × 17 columns</p>\n",
       "</div>"
      ],
      "text/plain": [
       "           Price Cabin   Dept_city  Dept_date arrival_city  stops  duration  \\\n",
       "1898    9.439784     E     Kolkata          2         Goa       2         0   \n",
       "2013    9.488654     E     Kolkata          2  Chandigarh       2         0   \n",
       "3430    9.511037     E      Indore          2     Chennai       2         0   \n",
       "3840    9.321166     E      Raipur          2   Hyderabad       3         0   \n",
       "5056    9.364434     E   Bengaluru          3      Nagpur       3         0   \n",
       "...          ...   ...         ...        ...          ...    ...       ...   \n",
       "329420  8.734238    PE      Mumbai         28    Amritsar       1         0   \n",
       "330273  8.925321    PE         Goa         29    Bagdogra       1         0   \n",
       "330564  9.141847    PE  Port Blair         29   New Delhi       1         0   \n",
       "330565  9.141847    PE  Port Blair         29   New Delhi       1         0   \n",
       "330932  9.141847    PE  Port Blair         30   New Delhi       1         0   \n",
       "\n",
       "        weekday  dept_hours Dept_flights_time  optimal_hours   Airline1  \\\n",
       "1898          6          20    Evening_flight              8  Air India   \n",
       "2013          6          20    Evening_flight              8  Air India   \n",
       "3430          6          17    Evening_flight              4  Air India   \n",
       "3840          6          18    Evening_flight              4  Air India   \n",
       "5056          0           7    Morning_flight             17     IndiGo   \n",
       "...         ...         ...               ...            ...        ...   \n",
       "329420        4          20    Evening_flight              8   Spicejet   \n",
       "330273        5          15  Afternoon_flight             18   Spicejet   \n",
       "330564        5           8    Morning_flight              8   Spicejet   \n",
       "330565        5           9    Morning_flight              9   Spicejet   \n",
       "330932        6           9    Morning_flight             15   Spicejet   \n",
       "\n",
       "          Airline2  Dep_hour  Dep_mins  Arrival_hour  Arrival_mins  \n",
       "1898     Air India        20        30            20            30  \n",
       "2013     Air India        20        45            20            45  \n",
       "3430     Air India        17         5            17             5  \n",
       "3840     Air India        18        55            18            55  \n",
       "5056     Air India         7        40             7            40  \n",
       "...            ...       ...       ...           ...           ...  \n",
       "329420    Spicejet        20        50            20            50  \n",
       "330273    Spicejet        15         0            15             0  \n",
       "330564    Spicejet         8        45             8            45  \n",
       "330565    Spicejet         9        50             9            50  \n",
       "330932    Spicejet         9        50             9            50  \n",
       "\n",
       "[399 rows x 17 columns]"
      ]
     },
     "execution_count": 45,
     "metadata": {},
     "output_type": "execute_result"
    }
   ],
   "source": [
    "df1.loc[df1['duration']==0]\n",
    "    \n"
   ]
  },
  {
   "cell_type": "code",
   "execution_count": 46,
   "id": "5b41af08",
   "metadata": {},
   "outputs": [],
   "source": [
    "duration_col = df1.duration\n",
    "duration_col.replace(to_replace=0 , value=duration_col.mean(), inplace=True)\n"
   ]
  },
  {
   "cell_type": "code",
   "execution_count": 47,
   "id": "4e4b12ea",
   "metadata": {},
   "outputs": [
    {
     "data": {
      "text/html": [
       "<div>\n",
       "<style scoped>\n",
       "    .dataframe tbody tr th:only-of-type {\n",
       "        vertical-align: middle;\n",
       "    }\n",
       "\n",
       "    .dataframe tbody tr th {\n",
       "        vertical-align: top;\n",
       "    }\n",
       "\n",
       "    .dataframe thead th {\n",
       "        text-align: right;\n",
       "    }\n",
       "</style>\n",
       "<table border=\"1\" class=\"dataframe\">\n",
       "  <thead>\n",
       "    <tr style=\"text-align: right;\">\n",
       "      <th></th>\n",
       "      <th>Price</th>\n",
       "      <th>Cabin</th>\n",
       "      <th>Dept_city</th>\n",
       "      <th>Dept_date</th>\n",
       "      <th>arrival_city</th>\n",
       "      <th>stops</th>\n",
       "      <th>duration</th>\n",
       "      <th>weekday</th>\n",
       "      <th>dept_hours</th>\n",
       "      <th>Dept_flights_time</th>\n",
       "      <th>optimal_hours</th>\n",
       "      <th>Airline1</th>\n",
       "      <th>Airline2</th>\n",
       "      <th>Dep_hour</th>\n",
       "      <th>Dep_mins</th>\n",
       "      <th>Arrival_hour</th>\n",
       "      <th>Arrival_mins</th>\n",
       "    </tr>\n",
       "  </thead>\n",
       "  <tbody>\n",
       "  </tbody>\n",
       "</table>\n",
       "</div>"
      ],
      "text/plain": [
       "Empty DataFrame\n",
       "Columns: [Price, Cabin, Dept_city, Dept_date, arrival_city, stops, duration, weekday, dept_hours, Dept_flights_time, optimal_hours, Airline1, Airline2, Dep_hour, Dep_mins, Arrival_hour, Arrival_mins]\n",
       "Index: []"
      ]
     },
     "execution_count": 47,
     "metadata": {},
     "output_type": "execute_result"
    }
   ],
   "source": [
    "df1[df1.duration==0]"
   ]
  },
  {
   "cell_type": "markdown",
   "id": "a4011ca9",
   "metadata": {},
   "source": [
    "Duration cannot be 0, hence there needs to be a way to make the duration be an ideal number"
   ]
  },
  {
   "cell_type": "code",
   "execution_count": 48,
   "id": "d31709af",
   "metadata": {},
   "outputs": [
    {
     "data": {
      "text/html": [
       "<div>\n",
       "<style scoped>\n",
       "    .dataframe tbody tr th:only-of-type {\n",
       "        vertical-align: middle;\n",
       "    }\n",
       "\n",
       "    .dataframe tbody tr th {\n",
       "        vertical-align: top;\n",
       "    }\n",
       "\n",
       "    .dataframe thead th {\n",
       "        text-align: right;\n",
       "    }\n",
       "</style>\n",
       "<table border=\"1\" class=\"dataframe\">\n",
       "  <thead>\n",
       "    <tr style=\"text-align: right;\">\n",
       "      <th></th>\n",
       "      <th>Airline1</th>\n",
       "      <th>Airline2</th>\n",
       "      <th>Dept_city</th>\n",
       "      <th>arrival_city</th>\n",
       "      <th>duration</th>\n",
       "    </tr>\n",
       "  </thead>\n",
       "  <tbody>\n",
       "    <tr>\n",
       "      <th>0</th>\n",
       "      <td>Air India</td>\n",
       "      <td>AirAsia</td>\n",
       "      <td>Amritsar</td>\n",
       "      <td>Bagdogra</td>\n",
       "      <td>1200.0</td>\n",
       "    </tr>\n",
       "    <tr>\n",
       "      <th>1</th>\n",
       "      <td>Air India</td>\n",
       "      <td>AirAsia</td>\n",
       "      <td>Amritsar</td>\n",
       "      <td>Bhubaneswar</td>\n",
       "      <td>1095.0</td>\n",
       "    </tr>\n",
       "    <tr>\n",
       "      <th>2</th>\n",
       "      <td>Air India</td>\n",
       "      <td>AirAsia</td>\n",
       "      <td>Amritsar</td>\n",
       "      <td>Guwahati</td>\n",
       "      <td>395.0</td>\n",
       "    </tr>\n",
       "    <tr>\n",
       "      <th>3</th>\n",
       "      <td>Air India</td>\n",
       "      <td>AirAsia</td>\n",
       "      <td>Amritsar</td>\n",
       "      <td>Indore</td>\n",
       "      <td>345.0</td>\n",
       "    </tr>\n",
       "    <tr>\n",
       "      <th>4</th>\n",
       "      <td>Air India</td>\n",
       "      <td>AirAsia</td>\n",
       "      <td>Amritsar</td>\n",
       "      <td>Kochi</td>\n",
       "      <td>515.0</td>\n",
       "    </tr>\n",
       "    <tr>\n",
       "      <th>...</th>\n",
       "      <td>...</td>\n",
       "      <td>...</td>\n",
       "      <td>...</td>\n",
       "      <td>...</td>\n",
       "      <td>...</td>\n",
       "    </tr>\n",
       "    <tr>\n",
       "      <th>6947</th>\n",
       "      <td>flybig</td>\n",
       "      <td>IndiGo</td>\n",
       "      <td>Guwahati</td>\n",
       "      <td>Raipur</td>\n",
       "      <td>825.0</td>\n",
       "    </tr>\n",
       "    <tr>\n",
       "      <th>6948</th>\n",
       "      <td>flybig</td>\n",
       "      <td>IndiGo</td>\n",
       "      <td>Guwahati</td>\n",
       "      <td>Ranchi</td>\n",
       "      <td>810.0</td>\n",
       "    </tr>\n",
       "    <tr>\n",
       "      <th>6949</th>\n",
       "      <td>flybig</td>\n",
       "      <td>IndiGo</td>\n",
       "      <td>Indore</td>\n",
       "      <td>Varanasi</td>\n",
       "      <td>915.0</td>\n",
       "    </tr>\n",
       "    <tr>\n",
       "      <th>6950</th>\n",
       "      <td>flybig</td>\n",
       "      <td>Spicejet</td>\n",
       "      <td>Guwahati</td>\n",
       "      <td>Bagdogra</td>\n",
       "      <td>380.0</td>\n",
       "    </tr>\n",
       "    <tr>\n",
       "      <th>6951</th>\n",
       "      <td>flybig</td>\n",
       "      <td>Spicejet</td>\n",
       "      <td>Indore</td>\n",
       "      <td>Varanasi</td>\n",
       "      <td>995.0</td>\n",
       "    </tr>\n",
       "  </tbody>\n",
       "</table>\n",
       "<p>6952 rows × 5 columns</p>\n",
       "</div>"
      ],
      "text/plain": [
       "       Airline1   Airline2 Dept_city  arrival_city  duration\n",
       "0     Air India    AirAsia  Amritsar     Bagdogra     1200.0\n",
       "1     Air India    AirAsia  Amritsar  Bhubaneswar     1095.0\n",
       "2     Air India    AirAsia  Amritsar     Guwahati      395.0\n",
       "3     Air India    AirAsia  Amritsar       Indore      345.0\n",
       "4     Air India    AirAsia  Amritsar        Kochi      515.0\n",
       "...         ...        ...       ...           ...       ...\n",
       "6947     flybig     IndiGo  Guwahati       Raipur      825.0\n",
       "6948     flybig     IndiGo  Guwahati       Ranchi      810.0\n",
       "6949     flybig     IndiGo    Indore     Varanasi      915.0\n",
       "6950     flybig   Spicejet  Guwahati     Bagdogra      380.0\n",
       "6951     flybig   Spicejet    Indore     Varanasi      995.0\n",
       "\n",
       "[6952 rows x 5 columns]"
      ]
     },
     "execution_count": 48,
     "metadata": {},
     "output_type": "execute_result"
    }
   ],
   "source": [
    "from scipy import stats\n",
    "modal_values=pd.DataFrame(df1.groupby(['Airline1','Airline2','Dept_city','arrival_city'], as_index=False)['duration'].agg(lambda x: stats.mode(x)[0] if stats.mode(x)[0]>0 else stats.mode(x)[1]))\n",
    "modal_values\n"
   ]
  },
  {
   "cell_type": "code",
   "execution_count": 61,
   "id": "c1c4dc65",
   "metadata": {},
   "outputs": [
    {
     "ename": "IndentationError",
     "evalue": "expected an indented block (<ipython-input-61-6fd2cce01caa>, line 4)",
     "output_type": "error",
     "traceback": [
      "\u001b[1;36m  File \u001b[1;32m\"<ipython-input-61-6fd2cce01caa>\"\u001b[1;36m, line \u001b[1;32m4\u001b[0m\n\u001b[1;33m    c= modal_values.loc[(modal_values['Airline1']==row['Airline1']) & (modal_values['Airline2']==row['Airline2']) & (modal_values[\"Dept_city\"]==row[\"Dept_city\"]) & (modal_values[\"arrival_city\"] == row[\"arrival_city\"])]['duration']\u001b[0m\n\u001b[1;37m    ^\u001b[0m\n\u001b[1;31mIndentationError\u001b[0m\u001b[1;31m:\u001b[0m expected an indented block\n"
     ]
    }
   ],
   "source": [
    "data=df1.copy()\n",
    "for index,row in data.iterrows():\n",
    "    if row['duration']==0:\n",
    "    c= modal_values.loc[(modal_values['Airline1']==row['Airline1']) & (modal_values['Airline2']==row['Airline2']) & (modal_values[\"Dept_city\"]==row[\"Dept_city\"]) & (modal_values[\"arrival_city\"] == row[\"arrival_city\"])]['duration']\n",
    "    data['duration'].iloc[index]=c"
   ]
  },
  {
   "cell_type": "markdown",
   "id": "18544d6a",
   "metadata": {},
   "source": [
    "# Splitting data"
   ]
  },
  {
   "cell_type": "code",
   "execution_count": null,
   "id": "97bb2118",
   "metadata": {},
   "outputs": [],
   "source": [
    "target = data['optimal_hours']\n",
    "data.drop(columns = ['optimal_hours'], inplace = True)\n",
    "train_X, test_X, train_y, test_y = train_test_split(data, target, test_size = 0.20, random_state = 0)"
   ]
  },
  {
   "cell_type": "markdown",
   "id": "ea5c7d64",
   "metadata": {},
   "source": [
    "# Featuring Engineering"
   ]
  },
  {
   "cell_type": "code",
   "execution_count": null,
   "id": "41d803b8",
   "metadata": {},
   "outputs": [],
   "source": [
    "features = []\n",
    "for i in df1.columns:\n",
    "    if df1[i].dtypes == 'object':\n",
    "        features.append(i)\n",
    "features"
   ]
  },
  {
   "cell_type": "code",
   "execution_count": null,
   "id": "c7d0401d",
   "metadata": {},
   "outputs": [],
   "source": [
    "le = LabelEncoder()\n",
    "\n",
    "for i in features:\n",
    "    data[i] = le.fit_transform(data[i])"
   ]
  },
  {
   "cell_type": "code",
   "execution_count": null,
   "id": "9f7194b3",
   "metadata": {},
   "outputs": [],
   "source": [
    "# Standardizing Data\n",
    "from sklearn.preprocessing import MinMaxScaler\n",
    "scaler = MinMaxScaler() \n",
    "for i in data.columns:\n",
    "    data[i] = scaler.fit_transform(data[[i]])\n",
    "    # sns.kdeplot(train1[i])"
   ]
  },
  {
   "cell_type": "code",
   "execution_count": null,
   "id": "19b5fea3",
   "metadata": {},
   "outputs": [],
   "source": [
    "a = data.columns\n",
    "a"
   ]
  },
  {
   "cell_type": "code",
   "execution_count": null,
   "id": "3be4286d",
   "metadata": {},
   "outputs": [],
   "source": [
    "x = data.loc[:, a].values"
   ]
  },
  {
   "cell_type": "code",
   "execution_count": null,
   "id": "cf2211d8",
   "metadata": {},
   "outputs": [],
   "source": [
    "data.shape"
   ]
  },
  {
   "cell_type": "code",
   "execution_count": null,
   "id": "bd8d4f90",
   "metadata": {},
   "outputs": [],
   "source": [
    "pca = PCA(n_components=16).fit(x)\n",
    "new_df = pca.transform(x)\n",
    "plt.rcParams[\"figure.figsize\"] = (12,6)\n",
    "\n",
    "fig, ax = plt.subplots()\n",
    "xi = np.arange(1, 17, step=1)\n",
    "y = np.cumsum(pca.explained_variance_ratio_)\n",
    "\n",
    "plt.ylim(0.0,1.1)\n",
    "plt.plot(xi, y, marker='o', linestyle='--', color='b')\n",
    "\n",
    "plt.xlabel('Number of Components')\n",
    "plt.xticks(np.arange(0, 15, step=1)) #change from 0-based array index to 1-based human-readable label\n",
    "plt.ylabel('Cumulative variance (%)')\n",
    "plt.title('The number of components needed to explain variance')\n",
    "\n",
    "plt.axhline(y=0.95, color='r', linestyle='-')\n",
    "plt.text(0.5, 0.85, '95% cut-off threshold', color = 'red', fontsize=16)\n",
    "\n",
    "ax.grid(axis='x')\n",
    "plt.show()\n"
   ]
  },
  {
   "cell_type": "code",
   "execution_count": null,
   "id": "9ce09959",
   "metadata": {},
   "outputs": [],
   "source": [
    "pca = PCA(n_components=12)\n",
    "\n",
    "principalComponents = pca.fit_transform(x)\n",
    "\n",
    "principalDataframe = pd.DataFrame(data = principalComponents)\n",
    "principalDataframe"
   ]
  },
  {
   "cell_type": "code",
   "execution_count": null,
   "id": "921d53c1",
   "metadata": {},
   "outputs": [],
   "source": []
  },
  {
   "cell_type": "code",
   "execution_count": null,
   "id": "1858e650",
   "metadata": {},
   "outputs": [],
   "source": []
  },
  {
   "cell_type": "code",
   "execution_count": null,
   "id": "aca5c2fc",
   "metadata": {},
   "outputs": [],
   "source": []
  }
 ],
 "metadata": {
  "interpreter": {
   "hash": "26de051ba29f2982a8de78e945f0abaf191376122a1563185a90213a26c5da77"
  },
  "kernelspec": {
   "display_name": "Python 3",
   "language": "python",
   "name": "python3"
  },
  "language_info": {
   "codemirror_mode": {
    "name": "ipython",
    "version": 3
   },
   "file_extension": ".py",
   "mimetype": "text/x-python",
   "name": "python",
   "nbconvert_exporter": "python",
   "pygments_lexer": "ipython3",
   "version": "3.8.8"
  }
 },
 "nbformat": 4,
 "nbformat_minor": 5
}
